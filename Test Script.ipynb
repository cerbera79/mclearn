{
 "cells": [
  {
   "cell_type": "code",
   "execution_count": 1,
   "metadata": {},
   "outputs": [],
   "source": [
    "import pandas as pd\n",
    "import numpy as np\n",
    "from sklearn import preprocessing"
   ]
  },
  {
   "cell_type": "code",
   "execution_count": 2,
   "metadata": {},
   "outputs": [],
   "source": [
    "#Import Data\n",
    "df=pd.read_excel('C:/Users/micha/OneDrive/Documents/Python/miniconda/mclearn/SampleData.xlsx', sheet_name= \"Monthly\")"
   ]
  },
  {
   "cell_type": "code",
   "execution_count": 3,
   "metadata": {},
   "outputs": [],
   "source": [
    "#Format DataFrame\n",
    "df.columns = df.iloc[9]\n",
    "df = df.drop([0,1,2,3,4,5,6,7,8,9])\n",
    "df = df.rename(columns={'Ticker':'Date'})\n",
    "del df.columns.name\n",
    "df = df.set_index('Date')\n",
    "df = df.astype(float, errors='raise')"
   ]
  },
  {
   "cell_type": "code",
   "execution_count": 7,
   "metadata": {},
   "outputs": [],
   "source": [
    "#Center and Scale (Standardize) Variables\n",
    "names = df.columns\n",
    "scaler = preprocessing.StandardScaler()\n",
    "scaled_matrix = scaler.fit_transform(df)\n",
    "scaled_df = pd.DataFrame(scaled_matrix, columns=names)"
   ]
  },
  {
   "cell_type": "code",
   "execution_count": 21,
   "metadata": {},
   "outputs": [
    {
     "data": {
      "text/plain": [
       "1.0025220721014103"
      ]
     },
     "execution_count": 21,
     "metadata": {},
     "output_type": "execute_result"
    }
   ],
   "source": [
    "scaled_df['MARDACMP Index'].std()"
   ]
  },
  {
   "cell_type": "code",
   "execution_count": 16,
   "metadata": {},
   "outputs": [],
   "source": [
    "#Sum over variables\n",
    "scaled_df['Sums'] = scaled_df.sum(axis=1)"
   ]
  },
  {
   "cell_type": "code",
   "execution_count": 28,
   "metadata": {},
   "outputs": [
    {
     "ename": "ValueError",
     "evalue": "Expected 2D array, got 1D array instead:\narray=[ 6.05026019e-01 -2.90663113e+00 -1.82505946e+00 -8.84429496e-02\n -5.35070563e-01  5.19056223e+00 -7.19897290e+00  4.14840165e+00\n -1.85812257e-01 -6.72355697e-01  1.21557701e+00  3.86025932e+00\n  8.72305797e-01 -4.27867926e-01 -1.23499673e+00 -9.04810910e-01\n  8.25919817e-01  7.22577121e-01 -4.90583791e-01  2.24567393e-03\n -3.15135816e-01 -4.06359633e+00  2.26041591e+00  5.91538749e-01\n  5.42592326e-01 -1.29652300e+00  8.29636084e-01 -5.04907063e-01\n  2.20629132e+00 -3.17631906e-01 -1.81813637e+00 -8.71221194e-01\n  8.91171963e-01 -9.00489745e-01  9.48646913e-01 -1.24524943e+00\n  7.24528009e-01  7.86934683e-01  3.93344303e-01  5.23611016e-01\n  1.50572005e+00 -6.28197470e-01 -6.01038851e-01 -1.93718288e+00\n  9.42503935e-01  1.71174634e+00  2.17983547e-01  4.01337668e-01\n  6.67297282e-01 -5.47159754e-01 -2.68288977e+00 -4.94492862e-01\n -3.28840847e+00  4.47111836e-02 -4.43350182e-01  1.84494755e+00\n  1.79537832e+00  2.64511332e+00  3.59228226e+00  1.17099225e+00\n  2.71776780e+00  2.80878818e+00  2.04054267e+00  3.60314490e-01\n  3.26909116e+00  8.98090033e-01  9.04423893e-01  3.99792712e+00\n -7.50531543e-01  4.74194242e+00  4.39559702e+00  5.70854278e+00\n -9.60659371e-01  1.24394532e-01 -1.30941397e+00  6.69804281e-01\n  1.06287239e+00 -1.42213475e+00 -4.95455911e-02 -1.60175811e-01\n  2.04294856e+00 -1.42744074e-01 -1.44824779e-01  1.22602896e+00\n  1.23384313e+00  1.30164210e+00  1.83090565e-02  6.19327919e-01\n -1.55216220e+00  1.51117252e+00  4.91045575e-01 -2.02731499e+00\n  4.25122688e-01  1.19089162e+00 -1.06087878e+00 -8.13598223e-01\n -4.89799658e-01  1.07476209e+00 -2.41904078e-01 -5.20016027e-01\n -2.14171201e-01 -1.23195025e+00  8.96858168e-01 -3.26623962e+00\n -2.34656873e+00 -3.25967768e+00  3.57436109e-01  4.17863664e+00\n -1.59487202e+00 -2.65403817e+00  2.89878298e+00  1.66035087e+00\n  1.67183439e+00 -3.04085595e-01 -1.35242181e+00 -3.38635531e-01\n  1.84136681e+00  8.58079469e-01  3.86830617e-01 -2.12223851e+00\n -7.26698620e-02 -2.22479526e+00 -9.68855301e-01  1.29531812e-01\n -2.25820565e+00 -1.03225514e+00  7.01405552e-01 -2.74162630e-03\n  1.98393195e-01 -4.60795555e-01 -6.80975288e-01 -5.87525333e-01\n -1.17843002e+00 -1.45147002e-01 -1.50796628e+00  1.32405172e+00\n -7.57879029e-01 -1.52846233e+00  4.53089821e-01 -1.25871164e+00\n -2.22706649e+00 -1.10973933e+00 -9.49426413e-01 -6.24490641e-01\n -5.29408235e-01 -2.30890318e-01 -9.65930492e-01 -9.09108291e-01\n -1.35213670e+00  8.42982754e-01 -2.64200387e-01 -8.35913359e-01\n -1.26133293e+00 -1.22035443e+00 -6.95087720e-01 -6.57322989e-01\n -6.19593884e-01 -1.22044622e+00 -2.64093622e-01 -6.54086208e-01\n -2.18397622e+00 -2.46526488e+00 -1.81516283e+00 -5.35179490e-01\n  7.05499566e-01  7.22190415e-02 -1.04715918e+00 -1.56251761e+00\n -8.75442080e-02 -1.03498082e+00 -9.83276280e-01 -1.20424744e-01\n -1.14483887e+00 -2.45109282e-01 -1.63029457e-01 -1.28886372e+00\n -9.55189472e-01 -1.38402523e+00 -1.34636835e+00 -1.43251797e+00\n -6.14200558e-01 -7.36226904e-01 -1.71702312e+00 -5.88826303e-01\n  6.49999378e+00  6.27641178e+00  4.71607502e+00  5.94965190e+00\n -1.47540866e+00  6.46839137e-01 -8.18911612e-01 -3.73688048e-01\n -8.44387224e-01 -1.54765508e-02  1.49041860e+00 -5.07991335e-01\n -1.91562147e+00 -4.62754187e-01 -1.13586552e-01  3.45827476e-01\n -9.11207079e-01 -4.51873649e-01 -9.37455043e-01 -2.19199586e+00\n -1.10009723e-01  2.55669549e-01 -2.80094542e-01].\nReshape your data either using array.reshape(-1, 1) if your data has a single feature or array.reshape(1, -1) if it contains a single sample.",
     "output_type": "error",
     "traceback": [
      "\u001b[1;31m---------------------------------------------------------------------------\u001b[0m",
      "\u001b[1;31mValueError\u001b[0m                                Traceback (most recent call last)",
      "\u001b[1;32m<ipython-input-28-5b84bee58393>\u001b[0m in \u001b[0;36m<module>\u001b[1;34m\u001b[0m\n\u001b[0;32m      2\u001b[0m \u001b[0mname\u001b[0m \u001b[1;33m=\u001b[0m \u001b[0mscaled_df\u001b[0m\u001b[1;33m[\u001b[0m\u001b[1;34m'Sums'\u001b[0m\u001b[1;33m]\u001b[0m\u001b[1;33m.\u001b[0m\u001b[0mname\u001b[0m\u001b[1;33m\u001b[0m\u001b[1;33m\u001b[0m\u001b[0m\n\u001b[0;32m      3\u001b[0m \u001b[0mscaler\u001b[0m \u001b[1;33m=\u001b[0m \u001b[0mpreprocessing\u001b[0m\u001b[1;33m.\u001b[0m\u001b[0mStandardScaler\u001b[0m\u001b[1;33m(\u001b[0m\u001b[1;33m)\u001b[0m\u001b[1;33m\u001b[0m\u001b[1;33m\u001b[0m\u001b[0m\n\u001b[1;32m----> 4\u001b[1;33m \u001b[0mscaled_sums_matrix\u001b[0m \u001b[1;33m=\u001b[0m \u001b[0mscaler\u001b[0m\u001b[1;33m.\u001b[0m\u001b[0mfit_transform\u001b[0m\u001b[1;33m(\u001b[0m\u001b[0mscaled_df\u001b[0m\u001b[1;33m[\u001b[0m\u001b[1;34m'Sums'\u001b[0m\u001b[1;33m]\u001b[0m\u001b[1;33m)\u001b[0m\u001b[1;33m\u001b[0m\u001b[1;33m\u001b[0m\u001b[0m\n\u001b[0m\u001b[0;32m      5\u001b[0m \u001b[0mscaled_df_sums\u001b[0m \u001b[1;33m=\u001b[0m \u001b[0mpd\u001b[0m\u001b[1;33m.\u001b[0m\u001b[0mDataFrame\u001b[0m\u001b[1;33m(\u001b[0m\u001b[0mscaled_sums_matrix\u001b[0m\u001b[1;33m,\u001b[0m \u001b[0mcolumns\u001b[0m\u001b[1;33m=\u001b[0m\u001b[0mname\u001b[0m\u001b[1;33m)\u001b[0m\u001b[1;33m\u001b[0m\u001b[1;33m\u001b[0m\u001b[0m\n",
      "\u001b[1;32m~\\Miniconda3\\envs\\mclearn\\lib\\site-packages\\sklearn\\base.py\u001b[0m in \u001b[0;36mfit_transform\u001b[1;34m(self, X, y, **fit_params)\u001b[0m\n\u001b[0;32m    460\u001b[0m         \u001b[1;32mif\u001b[0m \u001b[0my\u001b[0m \u001b[1;32mis\u001b[0m \u001b[1;32mNone\u001b[0m\u001b[1;33m:\u001b[0m\u001b[1;33m\u001b[0m\u001b[1;33m\u001b[0m\u001b[0m\n\u001b[0;32m    461\u001b[0m             \u001b[1;31m# fit method of arity 1 (unsupervised transformation)\u001b[0m\u001b[1;33m\u001b[0m\u001b[1;33m\u001b[0m\u001b[1;33m\u001b[0m\u001b[0m\n\u001b[1;32m--> 462\u001b[1;33m             \u001b[1;32mreturn\u001b[0m \u001b[0mself\u001b[0m\u001b[1;33m.\u001b[0m\u001b[0mfit\u001b[0m\u001b[1;33m(\u001b[0m\u001b[0mX\u001b[0m\u001b[1;33m,\u001b[0m \u001b[1;33m**\u001b[0m\u001b[0mfit_params\u001b[0m\u001b[1;33m)\u001b[0m\u001b[1;33m.\u001b[0m\u001b[0mtransform\u001b[0m\u001b[1;33m(\u001b[0m\u001b[0mX\u001b[0m\u001b[1;33m)\u001b[0m\u001b[1;33m\u001b[0m\u001b[1;33m\u001b[0m\u001b[0m\n\u001b[0m\u001b[0;32m    463\u001b[0m         \u001b[1;32melse\u001b[0m\u001b[1;33m:\u001b[0m\u001b[1;33m\u001b[0m\u001b[1;33m\u001b[0m\u001b[0m\n\u001b[0;32m    464\u001b[0m             \u001b[1;31m# fit method of arity 2 (supervised transformation)\u001b[0m\u001b[1;33m\u001b[0m\u001b[1;33m\u001b[0m\u001b[1;33m\u001b[0m\u001b[0m\n",
      "\u001b[1;32m~\\Miniconda3\\envs\\mclearn\\lib\\site-packages\\sklearn\\preprocessing\\data.py\u001b[0m in \u001b[0;36mfit\u001b[1;34m(self, X, y)\u001b[0m\n\u001b[0;32m    623\u001b[0m         \u001b[1;31m# Reset internal state before fitting\u001b[0m\u001b[1;33m\u001b[0m\u001b[1;33m\u001b[0m\u001b[1;33m\u001b[0m\u001b[0m\n\u001b[0;32m    624\u001b[0m         \u001b[0mself\u001b[0m\u001b[1;33m.\u001b[0m\u001b[0m_reset\u001b[0m\u001b[1;33m(\u001b[0m\u001b[1;33m)\u001b[0m\u001b[1;33m\u001b[0m\u001b[1;33m\u001b[0m\u001b[0m\n\u001b[1;32m--> 625\u001b[1;33m         \u001b[1;32mreturn\u001b[0m \u001b[0mself\u001b[0m\u001b[1;33m.\u001b[0m\u001b[0mpartial_fit\u001b[0m\u001b[1;33m(\u001b[0m\u001b[0mX\u001b[0m\u001b[1;33m,\u001b[0m \u001b[0my\u001b[0m\u001b[1;33m)\u001b[0m\u001b[1;33m\u001b[0m\u001b[1;33m\u001b[0m\u001b[0m\n\u001b[0m\u001b[0;32m    626\u001b[0m \u001b[1;33m\u001b[0m\u001b[0m\n\u001b[0;32m    627\u001b[0m     \u001b[1;32mdef\u001b[0m \u001b[0mpartial_fit\u001b[0m\u001b[1;33m(\u001b[0m\u001b[0mself\u001b[0m\u001b[1;33m,\u001b[0m \u001b[0mX\u001b[0m\u001b[1;33m,\u001b[0m \u001b[0my\u001b[0m\u001b[1;33m=\u001b[0m\u001b[1;32mNone\u001b[0m\u001b[1;33m)\u001b[0m\u001b[1;33m:\u001b[0m\u001b[1;33m\u001b[0m\u001b[1;33m\u001b[0m\u001b[0m\n",
      "\u001b[1;32m~\\Miniconda3\\envs\\mclearn\\lib\\site-packages\\sklearn\\preprocessing\\data.py\u001b[0m in \u001b[0;36mpartial_fit\u001b[1;34m(self, X, y)\u001b[0m\n\u001b[0;32m    647\u001b[0m         X = check_array(X, accept_sparse=('csr', 'csc'), copy=self.copy,\n\u001b[0;32m    648\u001b[0m                         \u001b[0mwarn_on_dtype\u001b[0m\u001b[1;33m=\u001b[0m\u001b[1;32mTrue\u001b[0m\u001b[1;33m,\u001b[0m \u001b[0mestimator\u001b[0m\u001b[1;33m=\u001b[0m\u001b[0mself\u001b[0m\u001b[1;33m,\u001b[0m \u001b[0mdtype\u001b[0m\u001b[1;33m=\u001b[0m\u001b[0mFLOAT_DTYPES\u001b[0m\u001b[1;33m,\u001b[0m\u001b[1;33m\u001b[0m\u001b[1;33m\u001b[0m\u001b[0m\n\u001b[1;32m--> 649\u001b[1;33m                         force_all_finite='allow-nan')\n\u001b[0m\u001b[0;32m    650\u001b[0m \u001b[1;33m\u001b[0m\u001b[0m\n\u001b[0;32m    651\u001b[0m         \u001b[1;31m# Even in the case of `with_mean=False`, we update the mean anyway\u001b[0m\u001b[1;33m\u001b[0m\u001b[1;33m\u001b[0m\u001b[1;33m\u001b[0m\u001b[0m\n",
      "\u001b[1;32m~\\Miniconda3\\envs\\mclearn\\lib\\site-packages\\sklearn\\utils\\validation.py\u001b[0m in \u001b[0;36mcheck_array\u001b[1;34m(array, accept_sparse, accept_large_sparse, dtype, order, copy, force_all_finite, ensure_2d, allow_nd, ensure_min_samples, ensure_min_features, warn_on_dtype, estimator)\u001b[0m\n\u001b[0;32m    550\u001b[0m                     \u001b[1;34m\"Reshape your data either using array.reshape(-1, 1) if \"\u001b[0m\u001b[1;33m\u001b[0m\u001b[1;33m\u001b[0m\u001b[0m\n\u001b[0;32m    551\u001b[0m                     \u001b[1;34m\"your data has a single feature or array.reshape(1, -1) \"\u001b[0m\u001b[1;33m\u001b[0m\u001b[1;33m\u001b[0m\u001b[0m\n\u001b[1;32m--> 552\u001b[1;33m                     \"if it contains a single sample.\".format(array))\n\u001b[0m\u001b[0;32m    553\u001b[0m \u001b[1;33m\u001b[0m\u001b[0m\n\u001b[0;32m    554\u001b[0m         \u001b[1;31m# in the future np.flexible dtypes will be handled like object dtypes\u001b[0m\u001b[1;33m\u001b[0m\u001b[1;33m\u001b[0m\u001b[1;33m\u001b[0m\u001b[0m\n",
      "\u001b[1;31mValueError\u001b[0m: Expected 2D array, got 1D array instead:\narray=[ 6.05026019e-01 -2.90663113e+00 -1.82505946e+00 -8.84429496e-02\n -5.35070563e-01  5.19056223e+00 -7.19897290e+00  4.14840165e+00\n -1.85812257e-01 -6.72355697e-01  1.21557701e+00  3.86025932e+00\n  8.72305797e-01 -4.27867926e-01 -1.23499673e+00 -9.04810910e-01\n  8.25919817e-01  7.22577121e-01 -4.90583791e-01  2.24567393e-03\n -3.15135816e-01 -4.06359633e+00  2.26041591e+00  5.91538749e-01\n  5.42592326e-01 -1.29652300e+00  8.29636084e-01 -5.04907063e-01\n  2.20629132e+00 -3.17631906e-01 -1.81813637e+00 -8.71221194e-01\n  8.91171963e-01 -9.00489745e-01  9.48646913e-01 -1.24524943e+00\n  7.24528009e-01  7.86934683e-01  3.93344303e-01  5.23611016e-01\n  1.50572005e+00 -6.28197470e-01 -6.01038851e-01 -1.93718288e+00\n  9.42503935e-01  1.71174634e+00  2.17983547e-01  4.01337668e-01\n  6.67297282e-01 -5.47159754e-01 -2.68288977e+00 -4.94492862e-01\n -3.28840847e+00  4.47111836e-02 -4.43350182e-01  1.84494755e+00\n  1.79537832e+00  2.64511332e+00  3.59228226e+00  1.17099225e+00\n  2.71776780e+00  2.80878818e+00  2.04054267e+00  3.60314490e-01\n  3.26909116e+00  8.98090033e-01  9.04423893e-01  3.99792712e+00\n -7.50531543e-01  4.74194242e+00  4.39559702e+00  5.70854278e+00\n -9.60659371e-01  1.24394532e-01 -1.30941397e+00  6.69804281e-01\n  1.06287239e+00 -1.42213475e+00 -4.95455911e-02 -1.60175811e-01\n  2.04294856e+00 -1.42744074e-01 -1.44824779e-01  1.22602896e+00\n  1.23384313e+00  1.30164210e+00  1.83090565e-02  6.19327919e-01\n -1.55216220e+00  1.51117252e+00  4.91045575e-01 -2.02731499e+00\n  4.25122688e-01  1.19089162e+00 -1.06087878e+00 -8.13598223e-01\n -4.89799658e-01  1.07476209e+00 -2.41904078e-01 -5.20016027e-01\n -2.14171201e-01 -1.23195025e+00  8.96858168e-01 -3.26623962e+00\n -2.34656873e+00 -3.25967768e+00  3.57436109e-01  4.17863664e+00\n -1.59487202e+00 -2.65403817e+00  2.89878298e+00  1.66035087e+00\n  1.67183439e+00 -3.04085595e-01 -1.35242181e+00 -3.38635531e-01\n  1.84136681e+00  8.58079469e-01  3.86830617e-01 -2.12223851e+00\n -7.26698620e-02 -2.22479526e+00 -9.68855301e-01  1.29531812e-01\n -2.25820565e+00 -1.03225514e+00  7.01405552e-01 -2.74162630e-03\n  1.98393195e-01 -4.60795555e-01 -6.80975288e-01 -5.87525333e-01\n -1.17843002e+00 -1.45147002e-01 -1.50796628e+00  1.32405172e+00\n -7.57879029e-01 -1.52846233e+00  4.53089821e-01 -1.25871164e+00\n -2.22706649e+00 -1.10973933e+00 -9.49426413e-01 -6.24490641e-01\n -5.29408235e-01 -2.30890318e-01 -9.65930492e-01 -9.09108291e-01\n -1.35213670e+00  8.42982754e-01 -2.64200387e-01 -8.35913359e-01\n -1.26133293e+00 -1.22035443e+00 -6.95087720e-01 -6.57322989e-01\n -6.19593884e-01 -1.22044622e+00 -2.64093622e-01 -6.54086208e-01\n -2.18397622e+00 -2.46526488e+00 -1.81516283e+00 -5.35179490e-01\n  7.05499566e-01  7.22190415e-02 -1.04715918e+00 -1.56251761e+00\n -8.75442080e-02 -1.03498082e+00 -9.83276280e-01 -1.20424744e-01\n -1.14483887e+00 -2.45109282e-01 -1.63029457e-01 -1.28886372e+00\n -9.55189472e-01 -1.38402523e+00 -1.34636835e+00 -1.43251797e+00\n -6.14200558e-01 -7.36226904e-01 -1.71702312e+00 -5.88826303e-01\n  6.49999378e+00  6.27641178e+00  4.71607502e+00  5.94965190e+00\n -1.47540866e+00  6.46839137e-01 -8.18911612e-01 -3.73688048e-01\n -8.44387224e-01 -1.54765508e-02  1.49041860e+00 -5.07991335e-01\n -1.91562147e+00 -4.62754187e-01 -1.13586552e-01  3.45827476e-01\n -9.11207079e-01 -4.51873649e-01 -9.37455043e-01 -2.19199586e+00\n -1.10009723e-01  2.55669549e-01 -2.80094542e-01].\nReshape your data either using array.reshape(-1, 1) if your data has a single feature or array.reshape(1, -1) if it contains a single sample."
     ]
    }
   ],
   "source": [
    "#Standardize Sums\n",
    "name = scaled_df['Sums'].name\n",
    "scaler = preprocessing.StandardScaler()\n",
    "scaled_sums_matrix = scaler.fit_transform(scaled_df['Sums'])\n",
    "scaled_df_sums = pd.DataFrame(scaled_sums_matrix, columns=name)"
   ]
  },
  {
   "cell_type": "code",
   "execution_count": 26,
   "metadata": {},
   "outputs": [
    {
     "data": {
      "text/plain": [
       "-3.432573602705798e-17"
      ]
     },
     "execution_count": 26,
     "metadata": {},
     "output_type": "execute_result"
    }
   ],
   "source": [
    "scaled_df_sums['Sums'].mean()"
   ]
  }
 ],
 "metadata": {
  "kernelspec": {
   "display_name": "Python 3",
   "language": "python",
   "name": "python3"
  },
  "language_info": {
   "codemirror_mode": {
    "name": "ipython",
    "version": 3
   },
   "file_extension": ".py",
   "mimetype": "text/x-python",
   "name": "python",
   "nbconvert_exporter": "python",
   "pygments_lexer": "ipython3",
   "version": "3.7.1"
  }
 },
 "nbformat": 4,
 "nbformat_minor": 2
}
