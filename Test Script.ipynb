{
 "cells": [
  {
   "cell_type": "code",
   "execution_count": 74,
   "metadata": {},
   "outputs": [],
   "source": [
    "import pandas as pd\n",
    "import numpy as np\n",
    "from sklearn import preprocessing"
   ]
  },
  {
   "cell_type": "code",
   "execution_count": 97,
   "metadata": {},
   "outputs": [],
   "source": [
    "#Import Data\n",
    "import_df=pd.read_excel('C:/Users/micha/OneDrive/Documents/Python/miniconda/mclearn/SampleData.xlsx', sheet_name= \"Monthly\")"
   ]
  },
  {
   "cell_type": "code",
   "execution_count": 98,
   "metadata": {},
   "outputs": [],
   "source": [
    "#Format DataFrame\n",
    "import_df.columns = import_df.iloc[9]\n",
    "import_df = import_df.drop([0,1,2,3,4,5,6,7,8,9])\n",
    "import_df = import_df.rename(columns={'Ticker':'Date'})\n",
    "del import_df.columns.name\n",
    "import_df = import_df.set_index('Date')\n",
    "import_df = import_df.astype(float, errors='raise')\n",
    "import_df.head()\n",
    "df = import_df"
   ]
  },
  {
   "cell_type": "code",
   "execution_count": 117,
   "metadata": {},
   "outputs": [],
   "source": [
    "#Sum over variables\n",
    "vars = ['MARDAXMP Index','MARDAUMP Index', 'MARDAURS Index', 'MARDACMP Index']\n",
    "df['Sums'] = df[vars].sum(axis=1)\n",
    "#df.head(10)"
   ]
  },
  {
   "cell_type": "code",
   "execution_count": 118,
   "metadata": {},
   "outputs": [],
   "source": [
    "#Standardize Sums to Scaled Sums Column\n",
    "df['Scaled Sums'] = df['Sums'].transform(lambda x : (x-x.mean(axis=0))/x.std(axis=0))\n",
    "#df.head(10)"
   ]
  },
  {
   "cell_type": "code",
   "execution_count": 120,
   "metadata": {},
   "outputs": [],
   "source": [
    "#print(df['Scaled Sums'].std())\n",
    "#print(df['Scaled Sums'].mean())\n",
    "#df.head(15)"
   ]
  }
 ],
 "metadata": {
  "kernelspec": {
   "display_name": "Python 3",
   "language": "python",
   "name": "python3"
  },
  "language_info": {
   "codemirror_mode": {
    "name": "ipython",
    "version": 3
   },
   "file_extension": ".py",
   "mimetype": "text/x-python",
   "name": "python",
   "nbconvert_exporter": "python",
   "pygments_lexer": "ipython3",
   "version": "3.7.1"
  }
 },
 "nbformat": 4,
 "nbformat_minor": 2
}
